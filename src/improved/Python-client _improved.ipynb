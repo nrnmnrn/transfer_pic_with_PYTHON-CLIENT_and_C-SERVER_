{
 "cells": [
  {
   "cell_type": "markdown",
   "metadata": {},
   "source": [
    "<span style=\"font-size:30px;\">可運行的程式</span>"
   ]
  },
  {
   "cell_type": "code",
   "execution_count": 1,
   "metadata": {},
   "outputs": [],
   "source": [
    "ip = '192.168.0.166' #server端ip\n",
    "port = 5022 #server端開放的port\n",
    "image_path_list = [\"image1.png\",\"image2.png\",\"image3.png\"] #本地image名稱"
   ]
  },
  {
   "cell_type": "markdown",
   "metadata": {},
   "source": [
    "傳送數據的原理為，把數據長度轉成長度為4個bytes的二進制，圖片像素也轉成二進制並接在後面一併傳出去"
   ]
  },
  {
   "cell_type": "code",
   "execution_count": 46,
   "metadata": {},
   "outputs": [],
   "source": [
    "import socket\n",
    "import time\n",
    "import struct\n",
    "\n",
    "server_address = (ip, port)\n",
    "client_socket = socket.socket(socket.AF_INET, socket.SOCK_STREAM)\n",
    "client_socket.connect(server_address)\n",
    "\n",
    "for image_path in image_path_list:\n",
    "    with open(image_path, \"rb\") as file: #以二進位的方式讀取圖片\n",
    "        binary_data = file.read()\n",
    "    image_size = len(binary_data) #圖片轉成二進制的大小\n",
    "    msg = struct.pack('>I', image_size) + binary_data #struct.pack('>I',data)代表把data轉成長度為4個bytes的二進制碼\n",
    "    client_socket.sendall(msg)\n",
    "    \n",
    "'''若是不需要再傳圖片，可以傳送底下的註解程式給server端，使server停止運作'''\n",
    "# terminated_msg = b'0' #終止運作碼為'0'\n",
    "# client_socket.sendall(struct.pack('>I', 1) + terminated_msg) #長度必須給1，否則server端也不會停止\n",
    "client_socket.close() #關閉此連結"
   ]
  },
  {
   "cell_type": "markdown",
   "metadata": {},
   "source": [
    "重新連結，傳送終止碼"
   ]
  },
  {
   "cell_type": "code",
   "execution_count": 47,
   "metadata": {},
   "outputs": [],
   "source": [
    "client_socket = socket.socket(socket.AF_INET, socket.SOCK_STREAM)\n",
    "client_socket.connect(server_address)\n",
    "terminated_msg = b'0'\n",
    "client_socket.sendall(struct.pack('>I', 1) + terminated_msg)"
   ]
  }
 ],
 "metadata": {
  "kernelspec": {
   "display_name": "Python 3",
   "language": "python",
   "name": "python3"
  },
  "language_info": {
   "codemirror_mode": {
    "name": "ipython",
    "version": 3
   },
   "file_extension": ".py",
   "mimetype": "text/x-python",
   "name": "python",
   "nbconvert_exporter": "python",
   "pygments_lexer": "ipython3",
   "version": "3.10.10"
  },
  "orig_nbformat": 4
 },
 "nbformat": 4,
 "nbformat_minor": 2
}
